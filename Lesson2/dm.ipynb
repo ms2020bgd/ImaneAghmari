{
 "cells": [
  {
   "cell_type": "code",
   "execution_count": 2,
   "metadata": {},
   "outputs": [],
   "source": [
    "from bs4 import BeautifulSoup\n",
    "import requests\n",
    "import time\n",
    "\n",
    "= \"https://fr.wikipedia.org\"\n",
    "\n",
    "\n",
    "def url_extraction(url):\n",
    "    return BeautifulSoup(requests.get(url).text, 'html.parser')"
   ]
  },
  {
   "cell_type": "code",
   "execution_count": null,
   "metadata": {},
   "outputs": [],
   "source": [
    "Correction prof :\n",
    "    \n",
    "from bs4 import BeautifulSoup\n",
    "import requests\n",
    "import time\n",
    "\n",
    "URL_PREFIX = \"https://fr.wikipedia.org\"\n",
    "debug = []\n",
    "\n",
    "def get_soup_from_url(url):\n",
    "    return BeautifulSoup(requests.get(url).text, 'html.parser')\n",
    "\n",
    "def filter_links_from_page(soup):\n",
    "    links = []\n",
    "    for a in soup.find(id=\"mw-content-text\").select('p a'):\n",
    "        if a.parent.name != 'span':\n",
    "            l = a.attrs.get('href')\n",
    "            if l and l.startswith('/wiki/') and ':' not in l:\n",
    "                url = URL_PREFIX + l\n",
    "                links.append(url)\n",
    "    return links\n",
    "\n",
    "def follow_links(url):\n",
    "    count = 0\n",
    "    while count < 30 and not url.endswith(\"/wiki/Langue\"):\n",
    "        soup = get_soup_from_url(url)\n",
    "        links = filter_links_from_page(soup)\n",
    "        url = links[0] if links[0] != url else links[1]\n",
    "        print('found:', url)\n",
    "        count += 1\n",
    "        time.sleep(0.5)\n",
    "    return count"
   ]
  }
 ],
 "metadata": {
  "kernelspec": {
   "display_name": "Python 3",
   "language": "python",
   "name": "python3"
  },
  "language_info": {
   "codemirror_mode": {
    "name": "ipython",
    "version": 3
   },
   "file_extension": ".py",
   "mimetype": "text/x-python",
   "name": "python",
   "nbconvert_exporter": "python",
   "pygments_lexer": "ipython3",
   "version": "3.6.5"
  }
 },
 "nbformat": 4,
 "nbformat_minor": 2
}
