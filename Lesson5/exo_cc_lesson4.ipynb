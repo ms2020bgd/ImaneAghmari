{
 "cells": [
  {
   "cell_type": "code",
   "execution_count": 1,
   "metadata": {},
   "outputs": [],
   "source": [
    "import pandas as pd\n",
    "import numpy as np\n",
    "from datetime import datetime"
   ]
  },
  {
   "cell_type": "code",
   "execution_count": 4,
   "metadata": {},
   "outputs": [],
   "source": [
    "people = pd.read_csv('people.csv')"
   ]
  },
  {
   "cell_type": "markdown",
   "metadata": {},
   "source": [
    "En repartant du dataset \"people.csv\" (cf. lesson4) dans sa version \"clean\" finale:\n",
    "\n",
    "- mettre la colonne inactive à true pour tous les users dont le last_seen date d'au moins un an\n",
    "- avec une regex: filtrer les numéros de téléphone invalides\n",
    "- ajouter une colonne indiquant si le numéro de tel correspond à un téléphone portable (06/07)\n",
    "- ajouter une colonne indiquant si les coordonnées GPS de l'utilisateur correspondent bien au \"country\"\n",
    "\n"
   ]
  },
  {
   "cell_type": "code",
   "execution_count": 6,
   "metadata": {},
   "outputs": [],
   "source": [
    "def clean_people(df):\n",
    "    # rename columns:\n",
    "    df = df.rename(columns={'email address': 'email'})\n",
    "    \n",
    "    # remove rows which have an empty \"first_name\" (NA):\n",
    "    #df = df[df.first_name.notna()] <- equivalent to next line:\n",
    "    df = df.dropna(subset=['first_name'])\n",
    "    \n",
    "    # drop duplicates on ID column:\n",
    "    df = df.drop_duplicates()\n",
    "    \n",
    "    # Normalize gender column:\n",
    "    df['gender'] = df['gender'].replace({'Female': 'F', 'Male': 'M'})\n",
    "    \n",
    "    # Convert column \"age\" to number (coerce: put NaN for bad values):\n",
    "    df['age'] = pd.to_numeric(df.age, errors='coerce')\n",
    "    \n",
    "    # Convert columns to date type:\n",
    "    df['registration'] = pd.to_datetime(df.registration)\n",
    "    df['last_seen'] = pd.to_datetime(df.last_seen, unit='s')\n",
    "    # When missing, last seen should fallback to the registration date:\n",
    "    df['last_seen'] = df.last_seen.combine_first(df.registration)\n",
    "    \n",
    "    # Add a \"full_name\" column by concatenating two other ones:\n",
    "    df['full_name'] = df.first_name + \" \" + df.last_name\n",
    "    \n",
    "    # Add a \"country\" column by extracting it from the address, with a split:\n",
    "    df['country'] = df.address.str.split(', ').str[1]\n",
    "    \n",
    "    # Column \"money\" contains values like \"$50.23\" or \"€23,09\".\n",
    "    # We want to make it uniform (only dollar currency) and as number, not str.\n",
    "    df['currency'] = df.money.str[0]  # extract first char ($/€) to a new \"currency\" column\n",
    "    df['money'] = df.money.str[1:].str.replace(',', '.')  # extract remaining chars and replace , by .\n",
    "    df['money'] = pd.to_numeric(df.money)  # convert to number\n",
    "    # convert euros cells to dollar:\n",
    "    df.loc[df.currency == '€', 'money'] = df[df.currency == '€'].money * 1.10\n",
    "    del df['currency']  # remove \"currency\" column which is now useless\n",
    "    \n",
    "    # Keep only rows where email is not NA:\n",
    "    df = df.dropna(subset=['email'])\n",
    "    # Keep only rows where email is a good email:\n",
    "    # CAUTION: in the real world you should not use dummy regexes like this to validate email addresses,\n",
    "    # but instead use a dedicated tool like https://github.com/syrusakbary/validate_email.\n",
    "    df = df[df.email.str.contains('.+@[0-9a-zA-Z\\.\\-_]+\\.\\w{2,}')]\n",
    "    # Some users may use email alias (example: john.smith+truc@gmail.com is an alias for john.smith@gmail.com).\n",
    "    # We want to drop these duplicates. To do that, we extract the 'alias' part with a regex:\n",
    "    groups = df.email.str.extract('([0-9a-zA-Z\\.\\-_]+)(\\+[0-9a-zA-Z\\.\\-_]+)?(@[0-9a-zA-Z\\.\\-_]+\\.\\w{2,})')\n",
    "    df['email'] = groups[0] + groups[2]  # we override the email with the email without the alias part\n",
    "    # Then, just use drop_duplicates, which will keep the first line by default:\n",
    "    df = df.drop_duplicates(subset=['email'])\n",
    "    \n",
    "    return df\n",
    "\n",
    "df_clean = clean_people(people)"
   ]
  },
  {
   "cell_type": "code",
   "execution_count": null,
   "metadata": {},
   "outputs": [],
   "source": []
  }
 ],
 "metadata": {
  "kernelspec": {
   "display_name": "Python 3",
   "language": "python",
   "name": "python3"
  },
  "language_info": {
   "codemirror_mode": {
    "name": "ipython",
    "version": 3
   },
   "file_extension": ".py",
   "mimetype": "text/x-python",
   "name": "python",
   "nbconvert_exporter": "python",
   "pygments_lexer": "ipython3",
   "version": "3.6.5"
  }
 },
 "nbformat": 4,
 "nbformat_minor": 2
}
